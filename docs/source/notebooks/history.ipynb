{
 "cells": [
  {
   "cell_type": "markdown",
   "metadata": {},
   "source": [
    "## History"
   ]
  },
  {
   "cell_type": "markdown",
   "metadata": {},
   "source": [
    "### Get Stock Data"
   ]
  },
  {
   "cell_type": "code",
   "execution_count": 1,
   "metadata": {},
   "outputs": [
    {
     "name": "stdout",
     "output_type": "stream",
     "text": [
      "    symbol   close      high       low  trade_count     open  \\\n",
      "0     AAPL  185.64  188.4400  183.8850      1009074  187.150   \n",
      "1     AAPL  184.25  185.8800  183.4300       656956  184.220   \n",
      "2     AAPL  181.91  183.0872  180.8800       712850  182.150   \n",
      "3     AAPL  181.18  182.7600  180.1700       681262  181.990   \n",
      "4     AAPL  185.56  185.6000  181.5000       669304  182.085   \n",
      "..     ...     ...       ...       ...          ...      ...   \n",
      "96    AAPL  191.04  191.9199  189.0100       566908  189.325   \n",
      "97    AAPL  192.35  192.7300  190.9201       502788  191.090   \n",
      "98    AAPL  190.90  192.8231  190.2700       452377  192.265   \n",
      "99    AAPL  186.88  191.0000  186.6250       574010  190.980   \n",
      "100   AAPL  189.98  190.5800  188.0404       492870  188.820   \n",
      "\n",
      "                   date    volume        vwap  \n",
      "0   2024-01-02 05:00:00  82496943  185.937347  \n",
      "1   2024-01-03 05:00:00  58418916  184.322631  \n",
      "2   2024-01-04 05:00:00  71992243  182.017530  \n",
      "3   2024-01-05 05:00:00  62339687  181.474375  \n",
      "4   2024-01-08 05:00:00  59151720  184.370323  \n",
      "..                  ...       ...         ...  \n",
      "96  2024-05-20 04:00:00  44361275  191.082621  \n",
      "97  2024-05-21 04:00:00  42309401  192.254210  \n",
      "98  2024-05-22 04:00:00  34648547  191.430141  \n",
      "99  2024-05-23 04:00:00  51005924  188.193182  \n",
      "100 2024-05-24 04:00:00  36326975  189.719277  \n",
      "\n",
      "[101 rows x 9 columns]\n"
     ]
    }
   ],
   "source": [
    "import os\n",
    "from py_alpaca_api.alpaca import PyAlpacaApi\n",
    "\n",
    "from pprint import pprint\n",
    "\n",
    "api_key = os.environ.get('API_KEY')\n",
    "api_secret = os.environ.get('API_SECRET')\n",
    "\n",
    "alpaca = PyAlpacaApi(api_key=api_key, api_secret=api_secret, api_paper=True)\n",
    "\n",
    "history = alpaca.history.get_stock_data(symbol='AAPL', start='2024-01-01', end='2024-05-24', timeframe='1d')\n",
    "\n",
    "pprint(history)"
   ]
  }
 ],
 "metadata": {
  "kernelspec": {
   "display_name": "py-alpaca-api-o-aP9Ndl-py3.12",
   "language": "python",
   "name": "python3"
  },
  "language_info": {
   "codemirror_mode": {
    "name": "ipython",
    "version": 3
   },
   "file_extension": ".py",
   "mimetype": "text/x-python",
   "name": "python",
   "nbconvert_exporter": "python",
   "pygments_lexer": "ipython3",
   "version": "3.12.3"
  }
 },
 "nbformat": 4,
 "nbformat_minor": 2
}
