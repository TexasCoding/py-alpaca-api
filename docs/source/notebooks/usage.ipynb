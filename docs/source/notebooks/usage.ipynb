{
 "cells": [
  {
   "cell_type": "markdown",
   "metadata": {},
   "source": [
    "### Usage\n",
    "## Installation\n",
    "\n",
    "```bash\n",
    "pip install py-alpaca-api\n",
    "```\n",
    "## How to use"
   ]
  },
  {
   "cell_type": "markdown",
   "metadata": {},
   "source": [
    "### Get an asset from Alpaca API"
   ]
  },
  {
   "cell_type": "code",
   "execution_count": 14,
   "metadata": {},
   "outputs": [
    {
     "name": "stdout",
     "output_type": "stream",
     "text": [
      "AssetClass(id='b0b6dd9d-8b9b-48a9-ba46-b9d54906e415',\n",
      "           asset_class='us_equity',\n",
      "           easy_to_borrow=True,\n",
      "           exchange='NASDAQ',\n",
      "           fractionable=True,\n",
      "           maintenance_margin_requirement=30.0,\n",
      "           marginable=True,\n",
      "           name='Apple Inc. Common Stock',\n",
      "           shortable=True,\n",
      "           status='active',\n",
      "           symbol='AAPL',\n",
      "           tradable=True)\n"
     ]
    }
   ],
   "source": [
    "from py_alpaca_api.alpaca import PyAlpacaApi\n",
    "\n",
    "from pprint import pprint\n",
    "\n",
    "api_key = 'PKE2DSJZ1X45PI78PYEU'\n",
    "api_secret = 'tRzswWMrbrxt5L5Uf2yDjhVquQnwPpYo7HrV7TTh'\n",
    "\n",
    "alpaca = PyAlpacaApi(api_key=api_key, api_secret=api_secret, api_paper=True)\n",
    "\n",
    "asset = alpaca.get_asset('AAPL')\n",
    "\n",
    "pprint(asset)"
   ]
  },
  {
   "cell_type": "markdown",
   "metadata": {},
   "source": [
    "### Place a Market Order "
   ]
  },
  {
   "cell_type": "code",
   "execution_count": 15,
   "metadata": {},
   "outputs": [
    {
     "name": "stdout",
     "output_type": "stream",
     "text": [
      "OrderClass(id='6d88f2a5-4039-4090-8459-b6b89a9f2a7b',\n",
      "           client_order_id='8c352370-7751-4048-986a-10f932d9d40d',\n",
      "           created_at='2024-05-12 02:01:12',\n",
      "           updated_at='2024-05-12 02:01:12',\n",
      "           submitted_at='2024-05-12 02:01:12',\n",
      "           filled_at='',\n",
      "           expired_at='',\n",
      "           canceled_at='',\n",
      "           failed_at='',\n",
      "           replaced_at='',\n",
      "           replaced_by='',\n",
      "           replaces='',\n",
      "           asset_id='b0b6dd9d-8b9b-48a9-ba46-b9d54906e415',\n",
      "           symbol='AAPL',\n",
      "           asset_class='us_equity',\n",
      "           notional=0,\n",
      "           qty=0.01,\n",
      "           filled_qty=0.0,\n",
      "           filled_avg_price=0,\n",
      "           order_class='',\n",
      "           order_type='market',\n",
      "           type='market',\n",
      "           side='buy',\n",
      "           time_in_force='day',\n",
      "           limit_price=0,\n",
      "           stop_price=0,\n",
      "           status='accepted',\n",
      "           extended_hours=False,\n",
      "           legs={},\n",
      "           trail_percent=0,\n",
      "           trail_price=0,\n",
      "           hwm=0,\n",
      "           subtag='',\n",
      "           source='')\n"
     ]
    }
   ],
   "source": [
    "market_order = alpaca.market_order(symbol='AAPL', qty=0.01, side='buy')\n",
    "\n",
    "pprint(market_order)"
   ]
  },
  {
   "cell_type": "markdown",
   "metadata": {},
   "source": [
    "### Cancel a open order"
   ]
  },
  {
   "cell_type": "code",
   "execution_count": 16,
   "metadata": {},
   "outputs": [
    {
     "name": "stdout",
     "output_type": "stream",
     "text": [
      "'Order 6d88f2a5-4039-4090-8459-b6b89a9f2a7b has been cancelled'\n"
     ]
    }
   ],
   "source": [
    "canceled_order = alpaca.cancel_order_by_id(market_order.id)\n",
    "\n",
    "pprint(canceled_order)"
   ]
  },
  {
   "cell_type": "markdown",
   "metadata": {},
   "source": [
    "### Get daily historical data for a given stock symbol"
   ]
  },
  {
   "cell_type": "code",
   "execution_count": 17,
   "metadata": {},
   "outputs": [
    {
     "name": "stdout",
     "output_type": "stream",
     "text": [
      "  symbol    close     high      low  trade_count    open                date  \\\n",
      "0   AAPL  185.550  188.340  183.900        18557  187.17 2024-01-02 05:00:00   \n",
      "1   AAPL  184.240  185.860  183.440        11052  184.29 2024-01-03 05:00:00   \n",
      "2   AAPL  182.000  183.070  180.885        11872  181.95 2024-01-04 05:00:00   \n",
      "3   AAPL  181.090  182.740  180.180        12129  181.81 2024-01-05 05:00:00   \n",
      "4   AAPL  185.535  185.590  181.555        10601  182.11 2024-01-08 05:00:00   \n",
      "5   AAPL  185.070  185.130  182.730        10460  183.93 2024-01-09 05:00:00   \n",
      "6   AAPL  186.130  186.390  183.935        10480  184.33 2024-01-10 05:00:00   \n",
      "7   AAPL  185.630  187.015  183.640         9990  186.61 2024-01-11 05:00:00   \n",
      "8   AAPL  185.830  186.680  185.200         7269  186.07 2024-01-12 05:00:00   \n",
      "9   AAPL  183.570  184.240  180.945        11915  182.25 2024-01-16 05:00:00   \n",
      "\n",
      "    volume        vwap  \n",
      "0  1795262  185.838234  \n",
      "1  1057604  184.271533  \n",
      "2  1144583  181.979520  \n",
      "3  1008242  181.454912  \n",
      "4   886360  184.008665  \n",
      "5   822969  184.278456  \n",
      "6   938680  184.937320  \n",
      "7   822741  184.892350  \n",
      "8   540174  185.790277  \n",
      "9  1015623  182.540044  \n"
     ]
    }
   ],
   "source": [
    "stock_data = alpaca.get_stock_historical_data(symbol=asset.symbol, start='2024-01-01', end='2024-05-09', timeframe='1d', limit=10)\n",
    "\n",
    "pprint(stock_data)"
   ]
  }
 ],
 "metadata": {
  "kernelspec": {
   "display_name": "py-alpaca-api-o-aP9Ndl-py3.12",
   "language": "python",
   "name": "python3"
  },
  "language_info": {
   "codemirror_mode": {
    "name": "ipython",
    "version": 3
   },
   "file_extension": ".py",
   "mimetype": "text/x-python",
   "name": "python",
   "nbconvert_exporter": "python",
   "pygments_lexer": "ipython3",
   "version": "3.12.3"
  }
 },
 "nbformat": 4,
 "nbformat_minor": 2
}
