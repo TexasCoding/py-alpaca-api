{
 "cells": [
  {
   "cell_type": "markdown",
   "metadata": {},
   "source": [
    "## Market"
   ]
  },
  {
   "cell_type": "markdown",
   "metadata": {},
   "source": [
    "### Clock"
   ]
  },
  {
   "cell_type": "code",
   "execution_count": 1,
   "metadata": {},
   "outputs": [
    {
     "name": "stdout",
     "output_type": "stream",
     "text": [
      "ClockClass(market_time=datetime.datetime(2024, 5, 25, 20, 3, 15),\n",
      "           is_open=False,\n",
      "           next_open=datetime.datetime(2024, 5, 28, 9, 30),\n",
      "           next_close=datetime.datetime(2024, 5, 28, 16, 0))\n"
     ]
    }
   ],
   "source": [
    "import os\n",
    "from py_alpaca_api.alpaca import PyAlpacaApi\n",
    "\n",
    "from pprint import pprint\n",
    "\n",
    "api_key = os.environ.get('API_KEY')\n",
    "api_secret = os.environ.get('API_SECRET')\n",
    "\n",
    "alpaca = PyAlpacaApi(api_key=api_key, api_secret=api_secret, api_paper=True)\n",
    "\n",
    "clock = alpaca.market.clock()\n",
    "\n",
    "pprint(clock)"
   ]
  },
  {
   "cell_type": "markdown",
   "metadata": {},
   "source": [
    "### Calendar"
   ]
  },
  {
   "cell_type": "code",
   "execution_count": 2,
   "metadata": {},
   "outputs": [
    {
     "name": "stdout",
     "output_type": "stream",
     "text": [
      "         date      open     close session_open session_close settlement_date\n",
      "0  2024-05-20  09:30:00  16:00:00         0400          2000      2024-05-22\n",
      "1  2024-05-21  09:30:00  16:00:00         0400          2000      2024-05-23\n",
      "2  2024-05-22  09:30:00  16:00:00         0400          2000      2024-05-24\n",
      "3  2024-05-23  09:30:00  16:00:00         0400          2000      2024-05-28\n",
      "4  2024-05-24  09:30:00  16:00:00         0400          2000      2024-05-29\n",
      "5  2024-05-28  09:30:00  16:00:00         0400          2000      2024-05-29\n",
      "6  2024-05-29  09:30:00  16:00:00         0400          2000      2024-05-30\n",
      "7  2024-05-30  09:30:00  16:00:00         0400          2000      2024-05-31\n",
      "8  2024-05-31  09:30:00  16:00:00         0400          2000      2024-06-03\n",
      "9  2024-06-03  09:30:00  16:00:00         0400          2000      2024-06-04\n",
      "10 2024-06-04  09:30:00  16:00:00         0400          2000      2024-06-05\n",
      "11 2024-06-05  09:30:00  16:00:00         0400          2000      2024-06-06\n",
      "12 2024-06-06  09:30:00  16:00:00         0400          2000      2024-06-07\n",
      "13 2024-06-07  09:30:00  16:00:00         0400          2000      2024-06-10\n",
      "14 2024-06-10  09:30:00  16:00:00         0400          2000      2024-06-11\n",
      "15 2024-06-11  09:30:00  16:00:00         0400          2000      2024-06-12\n",
      "16 2024-06-12  09:30:00  16:00:00         0400          2000      2024-06-13\n",
      "17 2024-06-13  09:30:00  16:00:00         0400          2000      2024-06-14\n",
      "18 2024-06-14  09:30:00  16:00:00         0400          2000      2024-06-17\n"
     ]
    }
   ],
   "source": [
    "import os\n",
    "from py_alpaca_api.alpaca import PyAlpacaApi\n",
    "\n",
    "from pprint import pprint\n",
    "\n",
    "api_key = os.environ.get('API_KEY')\n",
    "api_secret = os.environ.get('API_SECRET')\n",
    "\n",
    "alpaca = PyAlpacaApi(api_key=api_key, api_secret=api_secret, api_paper=True)\n",
    "\n",
    "calender = alpaca.market.calender(start_date='2024-05-20', end_date='2024-06-15')\n",
    "\n",
    "pprint(calender)"
   ]
  }
 ],
 "metadata": {
  "kernelspec": {
   "display_name": "py-alpaca-api-o-aP9Ndl-py3.12",
   "language": "python",
   "name": "python3"
  },
  "language_info": {
   "codemirror_mode": {
    "name": "ipython",
    "version": 3
   },
   "file_extension": ".py",
   "mimetype": "text/x-python",
   "name": "python",
   "nbconvert_exporter": "python",
   "pygments_lexer": "ipython3",
   "version": "3.12.3"
  }
 },
 "nbformat": 4,
 "nbformat_minor": 2
}
