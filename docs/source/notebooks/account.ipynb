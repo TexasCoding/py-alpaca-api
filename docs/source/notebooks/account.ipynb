{
 "cells": [
  {
   "cell_type": "markdown",
   "metadata": {},
   "source": [
    "### Account Class"
   ]
  },
  {
   "cell_type": "markdown",
   "metadata": {},
   "source": [
    "## Account Information"
   ]
  },
  {
   "cell_type": "code",
   "execution_count": 1,
   "metadata": {},
   "outputs": [
    {
     "name": "stdout",
     "output_type": "stream",
     "text": [
      "AccountClass(id='71958d78-4447-40c3-96d6-5d318a042c9c',\n",
      "             account_number='PA3PEGEYDYRT',\n",
      "             status='ACTIVE',\n",
      "             crypto_status='ACTIVE',\n",
      "             options_approved_level=2,\n",
      "             options_trading_level=2,\n",
      "             currency='USD',\n",
      "             buying_power=200000.0,\n",
      "             regt_buying_power=200000.0,\n",
      "             daytrading_buying_power=0.0,\n",
      "             effective_buying_power=200000.0,\n",
      "             non_marginable_buying_power=100000.0,\n",
      "             options_buying_power=100000.0,\n",
      "             bod_dtbp=0.0,\n",
      "             cash=100000.0,\n",
      "             accrued_fees=0.0,\n",
      "             pending_transfer_in=0.0,\n",
      "             portfolio_value=100000.0,\n",
      "             pattern_day_trader=False,\n",
      "             trading_blocked=False,\n",
      "             transfers_blocked=False,\n",
      "             account_blocked=False,\n",
      "             created_at=datetime.datetime(2024, 5, 12, 22, 9, 19),\n",
      "             trade_suspended_by_user=False,\n",
      "             multiplier=2,\n",
      "             shorting_enabled=True,\n",
      "             equity=100000.0,\n",
      "             last_equity=100000.0,\n",
      "             long_market_value=0.0,\n",
      "             short_market_value=0.0,\n",
      "             position_market_value=0.0,\n",
      "             initial_margin=0.0,\n",
      "             maintenance_margin=0.0,\n",
      "             last_maintenance_margin=0.0,\n",
      "             sma=100000.0,\n",
      "             daytrade_count=0,\n",
      "             balance_asof='2024-05-24',\n",
      "             crypto_tier=1,\n",
      "             intraday_adjustments=0,\n",
      "             pending_reg_taf_fees=0.0)\n"
     ]
    }
   ],
   "source": [
    "import os\n",
    "from py_alpaca_api.alpaca import PyAlpacaApi\n",
    "\n",
    "from pprint import pprint\n",
    "\n",
    "api_key = os.environ.get('API_KEY')\n",
    "api_secret = os.environ.get('API_SECRET')\n",
    "\n",
    "alpaca = PyAlpacaApi(api_key=api_key, api_secret=api_secret, api_paper=True)\n",
    "\n",
    "account = alpaca.account.get()\n",
    "\n",
    "pprint(account)"
   ]
  },
  {
   "cell_type": "markdown",
   "metadata": {},
   "source": [
    "## Activities"
   ]
  },
  {
   "cell_type": "code",
   "execution_count": 1,
   "metadata": {},
   "outputs": [
    {
     "name": "stdout",
     "output_type": "stream",
     "text": [
      "                                                   id activity_type  \\\n",
      "0   20240524144325589::2f303c1e-277b-4de1-bc9c-2f0...          FILL   \n",
      "2   20240524093915021::dfdf5ff5-d7d6-4d3a-9727-c86...          FILL   \n",
      "1   20240524093915056::90e65cd8-6db0-4134-8327-c8e...          FILL   \n",
      "3   20240524093914988::f2266ee9-274c-4fa4-b868-5ea...          FILL   \n",
      "4   20240524093914949::f748b965-4de0-4213-b865-a61...          FILL   \n",
      "5   20240524093914913::5df235b6-efa3-4583-8a4f-ad7...          FILL   \n",
      "6   20240524093914881::7c7cdcf4-0eaf-446a-a7f4-08a...          FILL   \n",
      "7   20240524093914843::3da68b05-62d4-404b-ba4d-46c...          FILL   \n",
      "8   20240524093914801::5c99543f-7a5f-4e21-a3c0-eeb...          FILL   \n",
      "9   20240524093027947::f4477659-29ef-4b08-a6e9-c7b...          FILL   \n",
      "15  20240524093025154::3bee736b-7d3e-45c3-a2d5-313...          FILL   \n",
      "18  20240524093025043::f2d52052-3344-4a28-a812-f53...          FILL   \n",
      "17  20240524093025075::508998bb-1a1a-41ef-9ee1-7c6...          FILL   \n",
      "16  20240524093025109::509f9b33-0b5f-4ce4-82a5-360...          FILL   \n",
      "11  20240524093025296::fc1ad377-de5e-4f82-b7fb-f2f...          FILL   \n",
      "14  20240524093025187::33462982-82a5-429b-9864-0e9...          FILL   \n",
      "13  20240524093025225::6ab6db3d-d856-47fc-803d-8f0...          FILL   \n",
      "12  20240524093025260::13dbe6dd-1db1-451e-aab5-fe1...          FILL   \n",
      "10  20240524093025328::947118dc-ae50-442d-92f6-d03...          FILL   \n",
      "19  20240524093024975::c2fbdd3d-a766-44a2-80ea-91d...          FILL   \n",
      "20  20240524093024935::9c3fafef-1159-4d67-916c-aa1...          FILL   \n",
      "21  20240524093024902::d38270e4-88b3-4acf-89cc-ad8...          FILL   \n",
      "22  20240524093024872::6d7da755-7da3-4a88-854a-04a...          FILL   \n",
      "\n",
      "            transaction_time  type    price       qty  side symbol  \\\n",
      "0  2024-05-24 18:43:25-04:00  fill   46.412  0.459411  sell   KOLD   \n",
      "2  2024-05-24 13:39:15-04:00  fill   23.136  0.464644   buy    MED   \n",
      "1  2024-05-24 13:39:15-04:00  fill   15.030  0.715236   buy   VSAT   \n",
      "3  2024-05-24 13:39:14-04:00  fill   40.132  0.267866   buy   LEGN   \n",
      "4  2024-05-24 13:39:14-04:00  fill   70.122  0.153304   buy   DPST   \n",
      "5  2024-05-24 13:39:14-04:00  fill    8.288  1.297056   buy   MSOS   \n",
      "6  2024-05-24 13:39:14-04:00  fill   13.138  0.818237   buy    TGI   \n",
      "7  2024-05-24 13:39:14-04:00  fill   47.664  0.225537   buy    UVV   \n",
      "8  2024-05-24 13:39:14-04:00  fill   61.498  0.174802   buy    NGG   \n",
      "9  2024-05-24 13:30:27-04:00  fill    8.800  0.340909  sell   XPOF   \n",
      "15 2024-05-24 13:30:25-04:00  fill   14.448  0.276855  sell   STNE   \n",
      "18 2024-05-24 13:30:25-04:00  fill   36.606  0.409769  sell   BHVN   \n",
      "17 2024-05-24 13:30:25-04:00  fill    9.722  0.308578  sell    SUZ   \n",
      "16 2024-05-24 13:30:25-04:00  fill   22.086  0.181110  sell    NGS   \n",
      "11 2024-05-24 13:30:25-04:00  fill  301.062  0.013286  sell   LULU   \n",
      "14 2024-05-24 13:30:25-04:00  fill  163.550  0.024457  sell   GRMN   \n",
      "13 2024-05-24 13:30:25-04:00  fill   19.460  0.205550  sell   RVLV   \n",
      "12 2024-05-24 13:30:25-04:00  fill    9.386  0.319625  sell   NVRO   \n",
      "10 2024-05-24 13:30:25-04:00  fill   27.248  0.183500  sell   PGNY   \n",
      "19 2024-05-24 13:30:24-04:00  fill  155.212  0.083756  sell   GPOR   \n",
      "20 2024-05-24 13:30:24-04:00  fill   44.210  0.226193  sell   KOLD   \n",
      "21 2024-05-24 13:30:24-04:00  fill    7.614  1.444707  sell    NXE   \n",
      "22 2024-05-24 13:30:24-04:00  fill    6.234  0.481232  sell   BEEM   \n",
      "\n",
      "    leaves_qty                              order_id   cum_qty order_status  \n",
      "0          0.0  8ceb3115-b234-47c8-8c22-bed3f787e537  0.459411       filled  \n",
      "2          0.0  58cdb0e7-2255-4b38-88ca-b38c05dca5f1  0.464644       filled  \n",
      "1          0.0  e9e2ade4-7e7b-4088-812a-6cf8835874d5  0.715236       filled  \n",
      "3          0.0  7d311bb0-78ea-4166-b552-5d17567c496e  0.267866       filled  \n",
      "4          0.0  1dd66ba9-4428-4425-ba3d-3b768f7aa561  0.153304       filled  \n",
      "5          0.0  a1f8d11a-c3fd-4612-aa6d-9ac3a7b24e24  1.297056       filled  \n",
      "6          0.0  9a107792-bed0-4a53-bb65-c3cf7b0e75a9  0.818237       filled  \n",
      "7          0.0  f79d3bd7-280f-4e72-b5b4-a51021de8383  0.225537       filled  \n",
      "8          0.0  1f846835-faf7-42b4-980a-333ecba44bb8  0.174802       filled  \n",
      "9          0.0  e518b6a1-f640-41fd-b8ea-8c022098a334  0.340909       filled  \n",
      "15         0.0  aab89e1f-1d1f-40fe-83e1-24d63e9d66c3  0.276855       filled  \n",
      "18         0.0  c973a1bc-6e9f-42c2-81ff-3aa9ce96435b  0.409769       filled  \n",
      "17         0.0  443453a2-a815-4cf9-a24d-814cdaccf22e  0.308578       filled  \n",
      "16         0.0  37951efb-ff06-4e25-9ae0-f68463d4da17  0.181110       filled  \n",
      "11         0.0  b8e23d2d-c99c-4f95-966f-847d5562843a  0.013286       filled  \n",
      "14         0.0  6adc7252-260e-4236-9c42-531e5dc3c00e  0.024457       filled  \n",
      "13         0.0  aa599ade-3b48-4554-bee8-3448ab18eb30  0.205550       filled  \n",
      "12         0.0  3149eee1-c1a4-4072-8247-d622b7e9b3f2  0.319625       filled  \n",
      "10         0.0  a0fa346b-e985-4e12-aa48-1f2204853e17  0.183500       filled  \n",
      "19         0.0  c95e4862-ca16-41e1-b548-70a03f5be337  0.083756       filled  \n",
      "20         0.0  354d174f-ded3-40e1-819f-a3445820fe93  0.226193       filled  \n",
      "21         0.0  8977daef-451d-42d0-9a50-32d8bdde9393  1.444707       filled  \n",
      "22         0.0  81a3ae45-3fdd-4b11-8d34-4dc9e69a431b  0.481232       filled  \n"
     ]
    }
   ],
   "source": [
    "import os\n",
    "from py_alpaca_api.alpaca import PyAlpacaApi\n",
    "\n",
    "from pprint import pprint\n",
    "\n",
    "api_key = os.environ.get('API_KEY')\n",
    "api_secret = os.environ.get('API_SECRET')\n",
    "\n",
    "alpaca = PyAlpacaApi(api_key=api_key, api_secret=api_secret, api_paper=True)\n",
    "\n",
    "account_activity = alpaca.account.activity(activity_type='FILL', date='2024-05-24')\n",
    "\n",
    "pprint(account_activity)"
   ]
  },
  {
   "cell_type": "markdown",
   "metadata": {},
   "source": [
    "## Portfolio History"
   ]
  },
  {
   "cell_type": "code",
   "execution_count": 2,
   "metadata": {},
   "outputs": [
    {
     "name": "stdout",
     "output_type": "stream",
     "text": [
      "    timestamp    equity  profit_loss  profit_loss_pct  base_value\n",
      "0  2024-05-21  100000.0          0.0              0.0    100000.0\n",
      "1  2024-05-22  100000.0          0.0              0.0    100000.0\n",
      "2  2024-05-23  100000.0          0.0              0.0    100000.0\n",
      "3  2024-05-24  100000.0          0.0              0.0    100000.0\n",
      "4  2024-05-25  100000.0          0.0              0.0    100000.0\n"
     ]
    }
   ],
   "source": [
    "import os\n",
    "from py_alpaca_api.alpaca import PyAlpacaApi\n",
    "\n",
    "from pprint import pprint\n",
    "\n",
    "api_key = os.environ.get('API_KEY')\n",
    "api_secret = os.environ.get('API_SECRET')\n",
    "\n",
    "alpaca = PyAlpacaApi(api_key=api_key, api_secret=api_secret, api_paper=True)\n",
    "\n",
    "portfolio_hisory = alpaca.account.portfolio_history(period='1W', timeframe='1D')\n",
    "\n",
    "pprint(portfolio_hisory)"
   ]
  }
 ],
 "metadata": {
  "kernelspec": {
   "display_name": "py-alpaca-api-o-aP9Ndl-py3.12",
   "language": "python",
   "name": "python3"
  },
  "language_info": {
   "codemirror_mode": {
    "name": "ipython",
    "version": 3
   },
   "file_extension": ".py",
   "mimetype": "text/x-python",
   "name": "python",
   "nbconvert_exporter": "python",
   "pygments_lexer": "ipython3",
   "version": "3.12.3"
  }
 },
 "nbformat": 4,
 "nbformat_minor": 2
}
