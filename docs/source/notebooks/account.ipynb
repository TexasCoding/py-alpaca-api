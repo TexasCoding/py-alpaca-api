{
 "cells": [
  {
   "cell_type": "markdown",
   "metadata": {},
   "source": [
    "### Account Class"
   ]
  },
  {
   "cell_type": "markdown",
   "metadata": {},
   "source": [
    "## Account Information"
   ]
  },
  {
   "cell_type": "code",
   "execution_count": 1,
   "metadata": {},
   "source": [
    "import os\n",
    "from py_alpaca_api.alpaca import PyAlpacaApi\n",
    "\n",
    "from pprint import pprint\n",
    "\n",
    "api_key = os.environ.get('API_KEY')\n",
    "api_secret = os.environ.get('API_SECRET')\n",
    "\n",
    "alpaca = PyAlpacaApi(api_key=api_key, api_secret=api_secret, api_paper=True)\n",
    "\n",
    "account = alpaca.account.get()\n",
    "\n",
    "pprint(account)"
   ],
   "outputs": []
  },
  {
   "cell_type": "markdown",
   "metadata": {},
   "source": [
    "## Activities"
   ]
  },
  {
   "cell_type": "code",
   "execution_count": 1,
   "metadata": {},
   "source": [
    "import os\n",
    "from py_alpaca_api.alpaca import PyAlpacaApi\n",
    "\n",
    "from pprint import pprint\n",
    "\n",
    "api_key = os.environ.get('API_KEY')\n",
    "api_secret = os.environ.get('API_SECRET')\n",
    "\n",
    "alpaca = PyAlpacaApi(api_key=api_key, api_secret=api_secret, api_paper=True)\n",
    "\n",
    "account_activity = alpaca.account.activity(activity_type='FILL', date='2024-05-24')\n",
    "\n",
    "pprint(account_activity)"
   ],
   "outputs": []
  },
  {
   "cell_type": "markdown",
   "metadata": {},
   "source": [
    "## Portfolio History"
   ]
  },
  {
   "cell_type": "code",
   "execution_count": 2,
   "metadata": {},
   "source": [
    "import os\n",
    "from py_alpaca_api.alpaca import PyAlpacaApi\n",
    "\n",
    "from pprint import pprint\n",
    "\n",
    "api_key = os.environ.get('API_KEY')\n",
    "api_secret = os.environ.get('API_SECRET')\n",
    "\n",
    "alpaca = PyAlpacaApi(api_key=api_key, api_secret=api_secret, api_paper=True)\n",
    "\n",
    "portfolio_hisory = alpaca.account.portfolio_history(period='1W', timeframe='1D')\n",
    "\n",
    "pprint(portfolio_hisory)"
   ],
   "outputs": []
  }
 ],
 "metadata": {
  "kernelspec": {
   "display_name": "py-alpaca-api-o-aP9Ndl-py3.12",
   "language": "python",
   "name": "python3"
  },
  "language_info": {
   "codemirror_mode": {
    "name": "ipython",
    "version": 3
   },
   "file_extension": ".py",
   "mimetype": "text/x-python",
   "name": "python",
   "nbconvert_exporter": "python",
   "pygments_lexer": "ipython3",
   "version": "3.12.3"
  }
 },
 "nbformat": 4,
 "nbformat_minor": 2
}
