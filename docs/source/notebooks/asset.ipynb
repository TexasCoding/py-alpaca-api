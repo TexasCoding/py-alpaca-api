{
 "cells": [
  {
   "cell_type": "markdown",
   "metadata": {},
   "source": [
    "### Assets"
   ]
  },
  {
   "cell_type": "markdown",
   "metadata": {},
   "source": [
    "## Get Asset"
   ]
  },
  {
   "cell_type": "code",
   "execution_count": 1,
   "metadata": {},
   "outputs": [
    {
     "name": "stdout",
     "output_type": "stream",
     "text": [
      "AssetClass(id='b0b6dd9d-8b9b-48a9-ba46-b9d54906e415',\n",
      "           asset_class='us_equity',\n",
      "           easy_to_borrow=True,\n",
      "           exchange='NASDAQ',\n",
      "           fractionable=True,\n",
      "           maintenance_margin_requirement=30.0,\n",
      "           marginable=True,\n",
      "           name='Apple Inc. Common Stock',\n",
      "           shortable=True,\n",
      "           status='active',\n",
      "           symbol='AAPL',\n",
      "           tradable=True)\n"
     ]
    }
   ],
   "source": [
    "import os\n",
    "from py_alpaca_api.alpaca import PyAlpacaApi\n",
    "\n",
    "from pprint import pprint\n",
    "\n",
    "api_key = os.environ.get('API_KEY')\n",
    "api_secret = os.environ.get('API_SECRET')\n",
    "\n",
    "alpaca = PyAlpacaApi(api_key=api_key, api_secret=api_secret, api_paper=True)\n",
    "\n",
    "asset = alpaca.asset.get('AAPL')\n",
    "\n",
    "pprint(asset)"
   ]
  },
  {
   "cell_type": "markdown",
   "metadata": {},
   "source": [
    "## All Available Assets"
   ]
  },
  {
   "cell_type": "code",
   "execution_count": 2,
   "metadata": {},
   "outputs": [
    {
     "name": "stdout",
     "output_type": "stream",
     "text": [
      "                                        id      class exchange symbol  \\\n",
      "0     20a32091-0978-4fba-ac84-8542944c092d  us_equity   NASDAQ   IRMD   \n",
      "1     4439c567-4395-4560-9f4b-c8bc10af458b  us_equity   NASDAQ   LASR   \n",
      "2     a4fd3c39-ca6f-42db-85cc-195310176cda  us_equity   NASDAQ   IRWD   \n",
      "3     2cf4f71c-d90f-4e0b-92be-8c4dd24a0c11  us_equity   NASDAQ   ARQT   \n",
      "4     8587f17d-56fd-4d45-a3bf-5265710bdcce  us_equity   NASDAQ   RMBS   \n",
      "...                                    ...        ...      ...    ...   \n",
      "2005  3196d48f-0ba0-4055-850b-e41ecd1818e0  us_equity   NASDAQ   SPTN   \n",
      "2006  045fc311-bc5d-481b-ab5f-d27b9f794fa3  us_equity   NASDAQ   IPSC   \n",
      "2007  a963d860-b87a-48c8-9c16-61d8a0c07536  us_equity   NASDAQ   FTXL   \n",
      "2008  5967d663-e428-4c24-8bdb-27d8b80d2843  us_equity   NASDAQ   FTXN   \n",
      "2009  a6b6cc4f-e56f-4a09-8867-7dce645880d3  us_equity   NASDAQ   IPWR   \n",
      "\n",
      "                                                   name  status  tradable  \\\n",
      "0                     iRadimed Corporation Common Stock  active      True   \n",
      "1                             nLIGHT, Inc. Common Stock  active      True   \n",
      "2     Ironwood Pharmaceuticals, Inc. Class A Common ...  active      True   \n",
      "3            Arcutis Biotherapeutics, Inc. Common Stock  active      True   \n",
      "4                              Rambus Inc. Common Stock  active      True   \n",
      "...                                                 ...     ...       ...   \n",
      "2005                   SpartanNash Company Common Stock  active      True   \n",
      "2006            Century Therapeutics, Inc. Common Stock  active      True   \n",
      "2007  First Trust Exchange-Traded Fund VI First Trus...  active      True   \n",
      "2008  First Trust Exchange-Traded Fund VI First Trus...  active      True   \n",
      "2009                      Ideal Power Inc. Common Stock  active      True   \n",
      "\n",
      "      marginable  maintenance_margin_requirement  shortable  easy_to_borrow  \\\n",
      "0           True                              30       True            True   \n",
      "1           True                              30       True            True   \n",
      "2           True                              30       True            True   \n",
      "3           True                              30       True            True   \n",
      "4           True                              30       True            True   \n",
      "...          ...                             ...        ...             ...   \n",
      "2005        True                              30       True            True   \n",
      "2006        True                              30       True            True   \n",
      "2007        True                              30      False           False   \n",
      "2008        True                              30      False           False   \n",
      "2009        True                              30       True            True   \n",
      "\n",
      "      fractionable                            attributes  \n",
      "0             True  [fractional_eh_enabled, has_options]  \n",
      "1             True  [fractional_eh_enabled, has_options]  \n",
      "2             True  [fractional_eh_enabled, has_options]  \n",
      "3             True  [fractional_eh_enabled, has_options]  \n",
      "4             True  [fractional_eh_enabled, has_options]  \n",
      "...            ...                                   ...  \n",
      "2005          True  [fractional_eh_enabled, has_options]  \n",
      "2006          True  [fractional_eh_enabled, has_options]  \n",
      "2007          True  [fractional_eh_enabled, has_options]  \n",
      "2008          True  [fractional_eh_enabled, has_options]  \n",
      "2009          True               [fractional_eh_enabled]  \n",
      "\n",
      "[2010 rows x 13 columns]\n"
     ]
    }
   ],
   "source": [
    "import os\n",
    "from py_alpaca_api.alpaca import PyAlpacaApi\n",
    "\n",
    "from pprint import pprint\n",
    "\n",
    "api_key = os.environ.get('API_KEY')\n",
    "api_secret = os.environ.get('API_SECRET')\n",
    "\n",
    "alpaca = PyAlpacaApi(api_key=api_key, api_secret=api_secret, api_paper=True)\n",
    "\n",
    "assets = alpaca.asset.get_all(status='active', asset_class='us_equity', exchange='NASDAQ')\n",
    "\n",
    "pprint(assets)"
   ]
  }
 ],
 "metadata": {
  "kernelspec": {
   "display_name": "py-alpaca-api-o-aP9Ndl-py3.12",
   "language": "python",
   "name": "python3"
  },
  "language_info": {
   "codemirror_mode": {
    "name": "ipython",
    "version": 3
   },
   "file_extension": ".py",
   "mimetype": "text/x-python",
   "name": "python",
   "nbconvert_exporter": "python",
   "pygments_lexer": "ipython3",
   "version": "3.12.3"
  }
 },
 "nbformat": 4,
 "nbformat_minor": 2
}
